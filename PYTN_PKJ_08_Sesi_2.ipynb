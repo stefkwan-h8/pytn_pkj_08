{
  "nbformat": 4,
  "nbformat_minor": 0,
  "metadata": {
    "colab": {
      "provenance": []
    },
    "kernelspec": {
      "name": "python3",
      "display_name": "Python 3"
    },
    "language_info": {
      "name": "python"
    }
  },
  "cells": [
    {
      "cell_type": "markdown",
      "source": [
        "# Fundamental Python\n",
        "\n",
        "- data types\n",
        "- variables\n",
        "- conditional\n",
        "- loop\n",
        "- function\n",
        "- module, package\n"
      ],
      "metadata": {
        "id": "MgmFDzZuMK9k"
      }
    },
    {
      "cell_type": "markdown",
      "source": [
        "\n",
        "## data types\n",
        "- int\n",
        "- float\n",
        "- string\n",
        "- boolean\n",
        "- list\n",
        "- tuple\n",
        "- dictionary\n",
        "\n",
        "```python\n",
        "# string\n",
        "\"cari text\" in \"didalam text lain\"\n",
        "\n",
        "msg = \"abc DEF\"\n",
        "msg.lower() # \"abc def\"\n",
        "msg.upper() # \"ABC DEF\"\n",
        "\n",
        "msg = msg + \"ghijkl\" # \"abc DEF ghijkl\"\n",
        "\n",
        "# list\n",
        "\"cari item\" in [\"di dalam\", \"sebuah list\", \"yang isinya\", \"bisa banyak\", 123, True, [], (), \"dan bisa campur\"]\n",
        "\n",
        "list_buah = [\"apel\"]\n",
        "list_buah.append(\"jeruk\") # [\"apel\", \"jeruk\"]\n",
        "list_buah.remove(\"apel\") # [\"jeruk\"]\n",
        "```"
      ],
      "metadata": {
        "id": "jo25r9Z_OZms"
      }
    },
    {
      "cell_type": "markdown",
      "source": [
        "## Variables\n",
        "tempat untuk menyimpan data secara temporary. temporary karena jika aplikasi ditutup, data tidak bisa di akses. variable hanya ada saat aplikasi berjalan.\n",
        "\n",
        "huruf kecil semua, tanpa spasi, tidak dimulai dengan angka, bukan keyword python\n",
        "```python\n",
        "kotak_permen = [30,12,73]\n",
        "nama_perman = [\"sugus\", \"relaxa\", \"kopiko\"]\n",
        "\n",
        "permen = {\"sugus\":30, \"relaxa\":12, \"kopiko\":73}\n",
        "permen.keys() # [\"sugus\", \"relaxa\", \"kopiko\"]\n",
        "permen.values() # [30, 12, 73]\n",
        "```"
      ],
      "metadata": {
        "id": "2F7fj7QuOabK"
      }
    },
    {
      "cell_type": "markdown",
      "source": [
        "## Conditional\n",
        "cara kita bisa membuat peraturan dalam sebuauh program. kalau A maka jalankan kode blok A, kalau tidak maka... 1) tidak ngapa-ngapain 2) jalankan kode blok B 3) pertanyaan lanjutan kalau B maka...\n",
        "\n",
        "```python\n",
        "# misalkan kita punya variable perman tadi\n",
        "\n",
        "# apakah ada lebih dari 10 sugus?\n",
        "if (permen[\"sugus\"] > 10):\n",
        "  # kalau iya, kita masuk blok kode yang ini\n",
        "  print(\"ada banyak sugus nya\")\n",
        "\n",
        "# apakah ada 100+ kopiko?\n",
        "if (permen[\"kopiko\"] > 100):\n",
        "  print(\"ok cukup banyak kopikonya\")\n",
        "else:\n",
        "  print(\"beli lagi kopiko nya\") # kalau tidak, beli lagi\n",
        "\n",
        "# kalau tidak lebih dari 100, apakah lebih dari 50?\n",
        "if (permen[\"kopiko\"] > 100):\n",
        "  print(\"ok cukup banyak kopikonya\")\n",
        "elif (permen[\"kopiko\"] > 50):\n",
        "  print(\"jumlah nya nanggung, coba tanya yg lain mau beli lagi nggak\") # kalau kopiko tidak lebih dari 100 tapi kopiko lebih dari 50\n",
        "else:\n",
        "  print(\"beli lagi kopiko nya\") \n",
        "\n",
        "\n",
        "```"
      ],
      "metadata": {
        "id": "InMQAEfBOadj"
      }
    },
    {
      "cell_type": "markdown",
      "source": [
        "# Loop\n",
        "\n",
        "## For\n",
        "untuk melewati setiap item dalam sebuah koleksi. koleksi termasuk list, string, range, dictionary, tuple.\n",
        "\n",
        "```python\n",
        "for item in [\"a\",\"b\",\"c\"]:\n",
        "  print(item)\n",
        "\n",
        "for n in range(10):\n",
        "  print(n)\n",
        "```\n",
        "\n",
        "\n",
        "## While\n",
        "bikin counter, kondisi menggunakan counter, di dalam loop counter bertambah/ berkurang, sehingga setelah loop berjalan sekian kali kondisi berubah jadi False\n",
        "\n",
        "```python\n",
        "counter = 0\n",
        "\n",
        "while (counter < 10):\n",
        "  print(\"jalann\", counter)\n",
        "  counter = counter + 1\n",
        "\n",
        "while (counter > -10):\n",
        "  print(\"jalan mundur\", counter)\n",
        "  counter = counter - 1\n",
        "```"
      ],
      "metadata": {
        "id": "vxr8y_esOahy"
      }
    },
    {
      "cell_type": "code",
      "source": [
        "counter = 0\n",
        "\n",
        "while (counter < 10):\n",
        "  print(\"jalann\", counter)\n",
        "  counter = counter + 1\n",
        "\n",
        "while (counter > -10):\n",
        "  print(\"jalan mundur\", counter)\n",
        "  counter = counter - 1\n",
        "  "
      ],
      "metadata": {
        "colab": {
          "base_uri": "https://localhost:8080/"
        },
        "id": "Rxc2AH-zRpBJ",
        "outputId": "eb2e4307-2df4-487f-fd48-33042f3186fa"
      },
      "execution_count": 1,
      "outputs": [
        {
          "output_type": "stream",
          "name": "stdout",
          "text": [
            "jalann 0\n",
            "jalann 1\n",
            "jalann 2\n",
            "jalann 3\n",
            "jalann 4\n",
            "jalann 5\n",
            "jalann 6\n",
            "jalann 7\n",
            "jalann 8\n",
            "jalann 9\n",
            "jalan mundur 10\n",
            "jalan mundur 9\n",
            "jalan mundur 8\n",
            "jalan mundur 7\n",
            "jalan mundur 6\n",
            "jalan mundur 5\n",
            "jalan mundur 4\n",
            "jalan mundur 3\n",
            "jalan mundur 2\n",
            "jalan mundur 1\n",
            "jalan mundur 0\n",
            "jalan mundur -1\n",
            "jalan mundur -2\n",
            "jalan mundur -3\n",
            "jalan mundur -4\n",
            "jalan mundur -5\n",
            "jalan mundur -6\n",
            "jalan mundur -7\n",
            "jalan mundur -8\n",
            "jalan mundur -9\n"
          ]
        }
      ]
    },
    {
      "cell_type": "code",
      "source": [
        "for n in range(10): # 0 - 9\n",
        "  print(n)"
      ],
      "metadata": {
        "colab": {
          "base_uri": "https://localhost:8080/"
        },
        "id": "GjVHUNtWSHka",
        "outputId": "572d951f-bf19-483b-f4ce-5a64a04601e7"
      },
      "execution_count": 2,
      "outputs": [
        {
          "output_type": "stream",
          "name": "stdout",
          "text": [
            "0\n",
            "1\n",
            "2\n",
            "3\n",
            "4\n",
            "5\n",
            "6\n",
            "7\n",
            "8\n",
            "9\n"
          ]
        }
      ]
    },
    {
      "cell_type": "code",
      "source": [
        "for n in range(10,20): # 10 - 19\n",
        "  print(n)"
      ],
      "metadata": {
        "colab": {
          "base_uri": "https://localhost:8080/"
        },
        "id": "dmEXUfphSIAe",
        "outputId": "172ddfa5-cb9f-4563-aa50-8b41ebc249cf"
      },
      "execution_count": 3,
      "outputs": [
        {
          "output_type": "stream",
          "name": "stdout",
          "text": [
            "10\n",
            "11\n",
            "12\n",
            "13\n",
            "14\n",
            "15\n",
            "16\n",
            "17\n",
            "18\n",
            "19\n"
          ]
        }
      ]
    },
    {
      "cell_type": "code",
      "source": [
        "for n in range(10, 100, 20): # 10, 30, 50, 70, 90\n",
        "  print(n)"
      ],
      "metadata": {
        "colab": {
          "base_uri": "https://localhost:8080/"
        },
        "id": "aqGDQnBbSNlo",
        "outputId": "96d63e3b-797d-4531-e546-33c07dce95a3"
      },
      "execution_count": 4,
      "outputs": [
        {
          "output_type": "stream",
          "name": "stdout",
          "text": [
            "10\n",
            "30\n",
            "50\n",
            "70\n",
            "90\n"
          ]
        }
      ]
    },
    {
      "cell_type": "markdown",
      "source": [
        "# Function\n",
        "code yang sudah kita buat, bisa kita kasih nama secara keseluruhan.\n",
        "\n",
        "misalkan kita buat code untuk cek grade murid. kalau nilainya 90-100 dapat \"A\". kalau nilainya 71-89 dapat \"B\". kalau nilainya 60-70 dapat \"C\". dibawah 60 dapat \"D\". spesial untuk yang dapat nilai 0 diberi grade \"F\"."
      ],
      "metadata": {
        "id": "kMxapVwOS3Kr"
      }
    },
    {
      "cell_type": "code",
      "source": [
        "nilai = 71\n",
        "grade = \"\"\n",
        "\n",
        "if (nilai >= 90 and nilai <= 100):\n",
        "  grade = \"A\"\n",
        "elif (nilai >= 71 and nilai <= 89):\n",
        "  grade = \"B\"\n",
        "elif (nilai >= 60 and nilai <= 70):\n",
        "  grade = \"C\"\n",
        "elif (nilai < 60 and nilai > 0):\n",
        "  grade = \"D\"\n",
        "elif (nilai == 0):\n",
        "  grade = \"F\"\n",
        "else:\n",
        "  print(\"nilai nya diatas 100 atau dibawah 0:\", nilai)\n",
        "  grade=\"tidak valid\"\n",
        "\n",
        "print(nilai, grade)"
      ],
      "metadata": {
        "colab": {
          "base_uri": "https://localhost:8080/"
        },
        "id": "e7Q0LIokSSE6",
        "outputId": "c0e5016a-b73b-48e8-efdd-de0e11f40fbb"
      },
      "execution_count": 12,
      "outputs": [
        {
          "output_type": "stream",
          "name": "stdout",
          "text": [
            "71 B\n"
          ]
        }
      ]
    },
    {
      "cell_type": "code",
      "source": [
        "def grading(nilai):\n",
        "  grade = \"\"\n",
        "\n",
        "  if (nilai >= 90 and nilai <= 100):\n",
        "    grade = \"A\"\n",
        "  elif (nilai >= 71 and nilai <= 89):\n",
        "    grade = \"B\"\n",
        "  elif (nilai >= 60 and nilai <= 70):\n",
        "    grade = \"C\"\n",
        "  elif (nilai < 60 and nilai > 0):\n",
        "    grade = \"D\"\n",
        "  elif (nilai == 0):\n",
        "    grade = \"F\"\n",
        "  else:\n",
        "    print(\"nilai nya diatas 100 atau dibawah 0:\", nilai)\n",
        "    grade=\"tidak valid\"\n",
        "\n",
        "  print(nilai, grade)"
      ],
      "metadata": {
        "id": "iHftZt7UT9qI"
      },
      "execution_count": 15,
      "outputs": []
    },
    {
      "cell_type": "code",
      "source": [
        "grading(71)\n",
        "grading(100)\n",
        "grading(58)"
      ],
      "metadata": {
        "colab": {
          "base_uri": "https://localhost:8080/"
        },
        "id": "paS2NQQaU1LF",
        "outputId": "b29beaca-d552-4647-ee74-055fd134520b"
      },
      "execution_count": 16,
      "outputs": [
        {
          "output_type": "stream",
          "name": "stdout",
          "text": [
            "71 B\n",
            "100 A\n",
            "58 D\n"
          ]
        }
      ]
    },
    {
      "cell_type": "code",
      "source": [
        "list_nilai = [50,90,70,25,82,98,32,85,68]\n",
        "\n",
        "for nilai in list_nilai:\n",
        "  grading(nilai)"
      ],
      "metadata": {
        "colab": {
          "base_uri": "https://localhost:8080/"
        },
        "id": "zM6R5QlCU3pv",
        "outputId": "9815424c-7db8-435d-cc8f-76a8dd486647"
      },
      "execution_count": 18,
      "outputs": [
        {
          "output_type": "stream",
          "name": "stdout",
          "text": [
            "50 D\n",
            "90 A\n",
            "70 C\n",
            "25 D\n",
            "82 B\n",
            "98 A\n",
            "32 D\n",
            "85 B\n",
            "68 C\n"
          ]
        }
      ]
    },
    {
      "cell_type": "code",
      "source": [
        "def hello():\n",
        "  print(\"halo\")"
      ],
      "metadata": {
        "id": "iM8BlZYqVNWg"
      },
      "execution_count": 19,
      "outputs": []
    },
    {
      "cell_type": "code",
      "source": [
        "hello()"
      ],
      "metadata": {
        "colab": {
          "base_uri": "https://localhost:8080/"
        },
        "id": "dJ9d8knMVnbr",
        "outputId": "db3c7275-be63-4158-8e97-c4c179385e29"
      },
      "execution_count": 20,
      "outputs": [
        {
          "output_type": "stream",
          "name": "stdout",
          "text": [
            "halo\n"
          ]
        }
      ]
    },
    {
      "cell_type": "markdown",
      "source": [
        "# Latihan kecil\n",
        "- coba buat function dan jalankan function\n",
        "- coba buat function yang menerima 1 argumen/parameter dan jalankan function nya"
      ],
      "metadata": {
        "id": "WOefZ-FtVpGD"
      }
    },
    {
      "cell_type": "code",
      "source": [
        "def sapa():\n",
        "  print(\"halo, selamat pagi\")"
      ],
      "metadata": {
        "id": "CWf9Wu3CVogs"
      },
      "execution_count": 21,
      "outputs": []
    },
    {
      "cell_type": "code",
      "source": [
        "sapa()"
      ],
      "metadata": {
        "colab": {
          "base_uri": "https://localhost:8080/"
        },
        "id": "5jJZeFd2Yac-",
        "outputId": "34b7f07e-6759-4e23-a142-f068dba0edf6"
      },
      "execution_count": 22,
      "outputs": [
        {
          "output_type": "stream",
          "name": "stdout",
          "text": [
            "halo, selamat pagi\n"
          ]
        }
      ]
    },
    {
      "cell_type": "code",
      "source": [
        "sapa"
      ],
      "metadata": {
        "colab": {
          "base_uri": "https://localhost:8080/"
        },
        "id": "DwHU1Km6YcS4",
        "outputId": "a093778a-c12d-4c48-ee25-b9f542d01a61"
      },
      "execution_count": 23,
      "outputs": [
        {
          "output_type": "execute_result",
          "data": {
            "text/plain": [
              "<function __main__.sapa()>"
            ]
          },
          "metadata": {},
          "execution_count": 23
        }
      ]
    },
    {
      "cell_type": "code",
      "source": [
        "sapa()\n",
        "sapa()\n",
        "sapa()"
      ],
      "metadata": {
        "colab": {
          "base_uri": "https://localhost:8080/"
        },
        "id": "3x9e-odLYddY",
        "outputId": "3705542a-355a-4dcd-c02a-9147756d1d59"
      },
      "execution_count": 24,
      "outputs": [
        {
          "output_type": "stream",
          "name": "stdout",
          "text": [
            "halo, selamat pagi\n",
            "halo, selamat pagi\n",
            "halo, selamat pagi\n"
          ]
        }
      ]
    },
    {
      "cell_type": "code",
      "source": [
        "def sapa(waktu):\n",
        "  print(\"halo, selamat\", waktu)"
      ],
      "metadata": {
        "id": "-N-HcKplYfQo"
      },
      "execution_count": 25,
      "outputs": []
    },
    {
      "cell_type": "code",
      "source": [
        "sapa()"
      ],
      "metadata": {
        "colab": {
          "base_uri": "https://localhost:8080/",
          "height": 166
        },
        "id": "gJlJk-wgYwy4",
        "outputId": "a0823386-53d2-4d02-91a1-4df2c707e83a"
      },
      "execution_count": 26,
      "outputs": [
        {
          "output_type": "error",
          "ename": "TypeError",
          "evalue": "ignored",
          "traceback": [
            "\u001b[0;31m---------------------------------------------------------------------------\u001b[0m",
            "\u001b[0;31mTypeError\u001b[0m                                 Traceback (most recent call last)",
            "\u001b[0;32m<ipython-input-26-1fe445ca8e49>\u001b[0m in \u001b[0;36m<module>\u001b[0;34m\u001b[0m\n\u001b[0;32m----> 1\u001b[0;31m \u001b[0msapa\u001b[0m\u001b[0;34m(\u001b[0m\u001b[0;34m)\u001b[0m\u001b[0;34m\u001b[0m\u001b[0;34m\u001b[0m\u001b[0m\n\u001b[0m",
            "\u001b[0;31mTypeError\u001b[0m: sapa() missing 1 required positional argument: 'waktu'"
          ]
        }
      ]
    },
    {
      "cell_type": "code",
      "source": [
        "sapa(\"sore\")"
      ],
      "metadata": {
        "colab": {
          "base_uri": "https://localhost:8080/"
        },
        "id": "M3n6lPVVYy9Y",
        "outputId": "a2c9b0ab-369c-43c0-ab50-f5e1c902b2b9"
      },
      "execution_count": 27,
      "outputs": [
        {
          "output_type": "stream",
          "name": "stdout",
          "text": [
            "halo, selamat sore\n"
          ]
        }
      ]
    },
    {
      "cell_type": "code",
      "source": [
        "sapa(\"malam\")\n",
        "sapa(\"pagi\")\n",
        "sapa(\"siang\")"
      ],
      "metadata": {
        "colab": {
          "base_uri": "https://localhost:8080/"
        },
        "id": "U6-QqHVLY1oC",
        "outputId": "f144b50c-e0af-4a5c-8c12-09b820641d48"
      },
      "execution_count": 28,
      "outputs": [
        {
          "output_type": "stream",
          "name": "stdout",
          "text": [
            "halo, selamat malam\n",
            "halo, selamat pagi\n",
            "halo, selamat siang\n"
          ]
        }
      ]
    },
    {
      "cell_type": "markdown",
      "source": [
        "tips membuat function (dan program pada umumnya)\n",
        "1. tentukan tujuan function\n",
        "2. tentukan input apa, output apa\n",
        "3. buat function, keyword `def` lanjut dengan nama function, `()` lalu `:`\n",
        "\n",
        "```python\n",
        "def namaFunction():\n",
        "  print(\"ok\")\n",
        "```\n",
        "\n",
        "isi `()` bisa kita berikan nama variable spesial, argumen, parameter supaya saat function dijalankan kita bisa ganti value variable tersebut. bisa 0,1,2,... argumen."
      ],
      "metadata": {
        "id": "Fw2Cjg13ZVdr"
      }
    },
    {
      "cell_type": "code",
      "source": [
        "# sapa bisa memiliki 3 argumen\n",
        "# nama orang yang disapa, lokasi tempat menyapa, waktu kapan menyapa\n",
        "def menyapa(nama, lokasi, waktu):\n",
        "  print(\"selamat \" + waktu + \", pak/bu \" + nama)\n",
        "  print(\"selamat datang di \" + lokasi)"
      ],
      "metadata": {
        "id": "OhSpWgt4Y4w7"
      },
      "execution_count": 29,
      "outputs": []
    },
    {
      "cell_type": "code",
      "source": [
        "menyapa(\"Andhika\", \"mall A\", \"siang\")"
      ],
      "metadata": {
        "colab": {
          "base_uri": "https://localhost:8080/"
        },
        "id": "lXCd2sc8aV3q",
        "outputId": "7c509da7-8585-4669-c3ae-d0026446d485"
      },
      "execution_count": 30,
      "outputs": [
        {
          "output_type": "stream",
          "name": "stdout",
          "text": [
            "selamat siang, pak/bu Andhika\n",
            "selamat datang di mall A\n"
          ]
        }
      ]
    },
    {
      "cell_type": "code",
      "source": [
        "menyapa(\"Budi\", \"kantor B\", \"pagi\")"
      ],
      "metadata": {
        "colab": {
          "base_uri": "https://localhost:8080/"
        },
        "id": "-BTVlOD6aZvs",
        "outputId": "1cd3981a-0829-4567-fcd1-7f5a412d61e0"
      },
      "execution_count": 31,
      "outputs": [
        {
          "output_type": "stream",
          "name": "stdout",
          "text": [
            "selamat pagi, pak/bu Budi\n",
            "selamat datang di kantor B\n"
          ]
        }
      ]
    },
    {
      "cell_type": "code",
      "source": [
        "menyapa(\"Cindy\", \"pagi\")"
      ],
      "metadata": {
        "colab": {
          "base_uri": "https://localhost:8080/",
          "height": 166
        },
        "id": "8MIQ1UKQaeN-",
        "outputId": "24a24fbd-e950-4211-a74f-cd3d74e96e86"
      },
      "execution_count": 32,
      "outputs": [
        {
          "output_type": "error",
          "ename": "TypeError",
          "evalue": "ignored",
          "traceback": [
            "\u001b[0;31m---------------------------------------------------------------------------\u001b[0m",
            "\u001b[0;31mTypeError\u001b[0m                                 Traceback (most recent call last)",
            "\u001b[0;32m<ipython-input-32-96544994979c>\u001b[0m in \u001b[0;36m<module>\u001b[0;34m\u001b[0m\n\u001b[0;32m----> 1\u001b[0;31m \u001b[0mmenyapa\u001b[0m\u001b[0;34m(\u001b[0m\u001b[0;34m\"Cindy\"\u001b[0m\u001b[0;34m,\u001b[0m \u001b[0;34m\"pagi\"\u001b[0m\u001b[0;34m)\u001b[0m\u001b[0;34m\u001b[0m\u001b[0;34m\u001b[0m\u001b[0m\n\u001b[0m",
            "\u001b[0;31mTypeError\u001b[0m: menyapa() missing 1 required positional argument: 'waktu'"
          ]
        }
      ]
    },
    {
      "cell_type": "code",
      "source": [
        "# bagaimana cara bisa bilang selamat pagi Cindy saja?\n",
        "# kita edit function nya supaya ada argumen yang boleh TIDAK kita input\n",
        "# default argumen, argumen yang memiliki default value jadi TIDAK HARUS diisi valuenya\n",
        "\n",
        "# contoh, tiga2 kita ganti jadi default argumen\n",
        "def menyapa(nama=\"\", lokasi=\"tempat\", waktu=\"pagi\"):\n",
        "  print(\"selamat \" + waktu + \", pak/bu \" + nama)\n",
        "  print(\"selamat datang di \" + lokasi)"
      ],
      "metadata": {
        "id": "AJvjlFB9alyp"
      },
      "execution_count": 33,
      "outputs": []
    },
    {
      "cell_type": "code",
      "source": [
        "menyapa()"
      ],
      "metadata": {
        "colab": {
          "base_uri": "https://localhost:8080/"
        },
        "id": "tEvFVKWMa7UJ",
        "outputId": "32f4b161-fbb6-4ee1-85cc-fc01fe21ba41"
      },
      "execution_count": 34,
      "outputs": [
        {
          "output_type": "stream",
          "name": "stdout",
          "text": [
            "selamat pagi, pak/bu \n",
            "selamat datang di tempat\n"
          ]
        }
      ]
    },
    {
      "cell_type": "code",
      "source": [
        "menyapa(\"Cindy\")"
      ],
      "metadata": {
        "colab": {
          "base_uri": "https://localhost:8080/"
        },
        "id": "S8Gv7NyLa82K",
        "outputId": "a5a46178-59d5-4902-bf0c-099a8cc203fa"
      },
      "execution_count": 35,
      "outputs": [
        {
          "output_type": "stream",
          "name": "stdout",
          "text": [
            "selamat pagi, pak/bu Cindy\n",
            "selamat datang di tempat\n"
          ]
        }
      ]
    },
    {
      "cell_type": "code",
      "source": [
        "# keyword argumen\n",
        "menyapa(\"Cindy\", waktu=\"siang\")"
      ],
      "metadata": {
        "colab": {
          "base_uri": "https://localhost:8080/"
        },
        "id": "E5p7trgjbAfT",
        "outputId": "806ba90e-ed06-4f09-dc0a-dda2f7fd413c"
      },
      "execution_count": 36,
      "outputs": [
        {
          "output_type": "stream",
          "name": "stdout",
          "text": [
            "selamat siang, pak/bu Cindy\n",
            "selamat datang di tempat\n"
          ]
        }
      ]
    },
    {
      "cell_type": "markdown",
      "source": [
        "## return\n",
        "sebuah function selain kita gunakan untuk jalanin code lalu di print, kita bisa juga menyimpan hasil funciton ke sebuah variable. kita perlu gunakan keyword `return` di dalam function nya untuk melakukan hal ini."
      ],
      "metadata": {
        "id": "S1PFlJ6JcsIi"
      }
    },
    {
      "cell_type": "code",
      "source": [
        "def hitung(a, b):\n",
        "  print(a + b)"
      ],
      "metadata": {
        "id": "Ru0-kaQ1bI6H"
      },
      "execution_count": 37,
      "outputs": []
    },
    {
      "cell_type": "code",
      "source": [
        "hasil = hitung(10,20)"
      ],
      "metadata": {
        "colab": {
          "base_uri": "https://localhost:8080/"
        },
        "id": "xJOO_xvkc95B",
        "outputId": "a89f3f83-3aed-4542-faf2-94815ac383b1"
      },
      "execution_count": 38,
      "outputs": [
        {
          "output_type": "stream",
          "name": "stdout",
          "text": [
            "30\n"
          ]
        }
      ]
    },
    {
      "cell_type": "code",
      "source": [
        "print(hasil)"
      ],
      "metadata": {
        "colab": {
          "base_uri": "https://localhost:8080/"
        },
        "id": "FVUjoEN8c_6a",
        "outputId": "8734258c-baea-4153-92bf-1e0cfe5f9843"
      },
      "execution_count": 39,
      "outputs": [
        {
          "output_type": "stream",
          "name": "stdout",
          "text": [
            "None\n"
          ]
        }
      ]
    },
    {
      "cell_type": "markdown",
      "source": [
        "tanpa keyword `return` sebuah function akan selalu isinya None\n",
        "\n",
        "print bisa, bisa dilihat, tapi value nya tidak tersimpan"
      ],
      "metadata": {
        "id": "y07ehO_OdCfz"
      }
    },
    {
      "cell_type": "code",
      "source": [
        "def hitung(a, b):\n",
        "  return a + b"
      ],
      "metadata": {
        "id": "w60lcOLWdBhi"
      },
      "execution_count": 40,
      "outputs": []
    },
    {
      "cell_type": "code",
      "source": [
        "hasil = hitung(56,78)"
      ],
      "metadata": {
        "id": "1pBdHRQvdOvP"
      },
      "execution_count": 41,
      "outputs": []
    },
    {
      "cell_type": "code",
      "source": [
        "print(hasil)"
      ],
      "metadata": {
        "colab": {
          "base_uri": "https://localhost:8080/"
        },
        "id": "J267CX9sdT4R",
        "outputId": "e970cbf2-5300-4cc5-f9b8-3bdc8b8c8d7f"
      },
      "execution_count": 42,
      "outputs": [
        {
          "output_type": "stream",
          "name": "stdout",
          "text": [
            "134\n"
          ]
        }
      ]
    },
    {
      "cell_type": "markdown",
      "source": [
        "tanpa `print` di dalam function, maka tidak ada output yang terlihat saat function jalan. tapi dengan ada nya `return` hasil nya bisa tersimpan ke variable"
      ],
      "metadata": {
        "id": "yZ6ubfUOdXn6"
      }
    },
    {
      "cell_type": "code",
      "source": [
        "def hitung(a, b):\n",
        "  c = a + b\n",
        "  print(c)\n",
        "  return c"
      ],
      "metadata": {
        "id": "1vXnY7OpdV46"
      },
      "execution_count": 43,
      "outputs": []
    },
    {
      "cell_type": "code",
      "source": [
        "hasil = hitung(56,45)"
      ],
      "metadata": {
        "colab": {
          "base_uri": "https://localhost:8080/"
        },
        "id": "OaFx9GE8djj4",
        "outputId": "fd0aed17-bc2f-432f-b344-3eebe8c70c89"
      },
      "execution_count": 44,
      "outputs": [
        {
          "output_type": "stream",
          "name": "stdout",
          "text": [
            "101\n"
          ]
        }
      ]
    },
    {
      "cell_type": "code",
      "source": [
        "print(hasil)"
      ],
      "metadata": {
        "colab": {
          "base_uri": "https://localhost:8080/"
        },
        "id": "9fRsHkgpdmF5",
        "outputId": "7a2a3e86-5f23-4584-f2ed-c45bc698d869"
      },
      "execution_count": 45,
      "outputs": [
        {
          "output_type": "stream",
          "name": "stdout",
          "text": [
            "101\n"
          ]
        }
      ]
    },
    {
      "cell_type": "markdown",
      "source": [
        "print nya jalan, hasil hitung 101 langsung terlihat. return juga jalan, hasil hitun 101 tersimpan ke variable."
      ],
      "metadata": {
        "id": "fVKfpf3edpRD"
      }
    },
    {
      "cell_type": "markdown",
      "source": [
        "# Module\n",
        "membuat file yang extension nya `.py` contohnya `andi.py`\n",
        "\n",
        "di dalam file module bisa kita isi code Python, termasuk:\n",
        "- variable\n",
        "- conditional\n",
        "- loop\n",
        "- function\n",
        "\n",
        "biasa digunakan untuk menyimpan cuplikan code yang bisa dipakai lagi di tempat lain, di file lain, di projek lain. biasanya berisi variable dan function."
      ],
      "metadata": {
        "id": "BTvlhNNAeO1r"
      }
    },
    {
      "cell_type": "code",
      "source": [
        "import andi"
      ],
      "metadata": {
        "id": "UagN6yTZdnxi"
      },
      "execution_count": 46,
      "outputs": []
    },
    {
      "cell_type": "code",
      "source": [
        "andi.nama_depan"
      ],
      "metadata": {
        "colab": {
          "base_uri": "https://localhost:8080/",
          "height": 38
        },
        "id": "73Ryt6hme_hV",
        "outputId": "2afa506d-0417-4326-bc0d-9e3e70e3e58f"
      },
      "execution_count": 47,
      "outputs": [
        {
          "output_type": "execute_result",
          "data": {
            "text/plain": [
              "'Andhika'"
            ],
            "application/vnd.google.colaboratory.intrinsic+json": {
              "type": "string"
            }
          },
          "metadata": {},
          "execution_count": 47
        }
      ]
    },
    {
      "cell_type": "code",
      "source": [
        "andi.nama_lengkap"
      ],
      "metadata": {
        "colab": {
          "base_uri": "https://localhost:8080/",
          "height": 38
        },
        "id": "mB0Xm-mFfBef",
        "outputId": "c2beb1c0-3ac0-4bac-a218-46cae4a7e90d"
      },
      "execution_count": 48,
      "outputs": [
        {
          "output_type": "execute_result",
          "data": {
            "text/plain": [
              "'Andhika Widjaja'"
            ],
            "application/vnd.google.colaboratory.intrinsic+json": {
              "type": "string"
            }
          },
          "metadata": {},
          "execution_count": 48
        }
      ]
    },
    {
      "cell_type": "code",
      "source": [
        "andi.hobi"
      ],
      "metadata": {
        "colab": {
          "base_uri": "https://localhost:8080/"
        },
        "id": "G6pnmc4ifC_Q",
        "outputId": "e0ffe7a6-e874-4a90-8cfd-7286187e1985"
      },
      "execution_count": 49,
      "outputs": [
        {
          "output_type": "execute_result",
          "data": {
            "text/plain": [
              "['memasak', 'bulutangkis', 'sepeda']"
            ]
          },
          "metadata": {},
          "execution_count": 49
        }
      ]
    },
    {
      "cell_type": "code",
      "source": [
        "andi.hobi[0]"
      ],
      "metadata": {
        "colab": {
          "base_uri": "https://localhost:8080/",
          "height": 38
        },
        "id": "JQNzITsufEfY",
        "outputId": "f2a99092-a99f-41f1-f505-78fec76c8bed"
      },
      "execution_count": 50,
      "outputs": [
        {
          "output_type": "execute_result",
          "data": {
            "text/plain": [
              "'memasak'"
            ],
            "application/vnd.google.colaboratory.intrinsic+json": {
              "type": "string"
            }
          },
          "metadata": {},
          "execution_count": 50
        }
      ]
    },
    {
      "cell_type": "code",
      "source": [
        "andi.menyapa()"
      ],
      "metadata": {
        "colab": {
          "base_uri": "https://localhost:8080/"
        },
        "id": "Y8NchJfsfG5R",
        "outputId": "4bfc75a0-d725-49d4-d990-09e5240ce5ae"
      },
      "execution_count": 51,
      "outputs": [
        {
          "output_type": "stream",
          "name": "stdout",
          "text": [
            "salam kenal saya Andi!\n"
          ]
        }
      ]
    },
    {
      "cell_type": "code",
      "source": [
        "import budi"
      ],
      "metadata": {
        "id": "7XuOLwD2fIsK"
      },
      "execution_count": 54,
      "outputs": []
    },
    {
      "cell_type": "code",
      "source": [
        "budi.marah(\"tidur di kelas\")"
      ],
      "metadata": {
        "colab": {
          "base_uri": "https://localhost:8080/"
        },
        "id": "Vq_fxtwXhrFH",
        "outputId": "1538479b-420e-4b68-8d37-265ad6c0aabf"
      },
      "execution_count": 58,
      "outputs": [
        {
          "output_type": "stream",
          "name": "stdout",
          "text": [
            "HEY!\n",
            "Tidak Boleh tidur di kelas\n"
          ]
        }
      ]
    },
    {
      "cell_type": "code",
      "source": [
        "import andi as a\n",
        "import budi as b"
      ],
      "metadata": {
        "id": "Je-m1V0QhwiR"
      },
      "execution_count": 59,
      "outputs": []
    },
    {
      "cell_type": "code",
      "source": [
        "a.menyapa()"
      ],
      "metadata": {
        "colab": {
          "base_uri": "https://localhost:8080/"
        },
        "id": "Y2rPO4rPiLYU",
        "outputId": "1f339ea3-15cf-4971-e3e9-5ba3df5749ce"
      },
      "execution_count": 60,
      "outputs": [
        {
          "output_type": "stream",
          "name": "stdout",
          "text": [
            "salam kenal saya Andi!\n"
          ]
        }
      ]
    },
    {
      "cell_type": "code",
      "source": [
        "b.menyapa()"
      ],
      "metadata": {
        "colab": {
          "base_uri": "https://localhost:8080/"
        },
        "id": "-IHBXBIriMtE",
        "outputId": "468bac00-bdbf-4270-f5ce-90f0068854be"
      },
      "execution_count": 61,
      "outputs": [
        {
          "output_type": "stream",
          "name": "stdout",
          "text": [
            "Perkenalkan saya Budi.\n"
          ]
        }
      ]
    },
    {
      "cell_type": "code",
      "source": [
        "import numpy as np"
      ],
      "metadata": {
        "id": "LUsXoFG9iOJV"
      },
      "execution_count": 62,
      "outputs": []
    },
    {
      "cell_type": "markdown",
      "source": [
        "kedepannya kita akan gunakan banyak module buatan orang lain, seperti numpy.\n",
        "\n",
        "cara pakainya (karena kita tidak diberikan code aslinya) biasanya kita baca dari dokumentasi\n",
        "\n",
        "untuk package/module numpy dokumentasinya lumayan lengkap dan panjan di website numpy.org. tidak semua module punya dokumentasi selengkap dan serapi ini.\n",
        "\n",
        "semua gratis. buatan orang untuk orang. komunitas python. pypi.org\n",
        "\n",
        "contoh dokumentasi function yang ada di dalam numpy, funtion array itu di https://numpy.org/doc/stable/reference/generated/numpy.array.html?highlight=array#numpy.array \n",
        "\n",
        "bisa dilihat kalau setiap argumen/parameter dijelaskan cara pakainya, input nya apa, ada yg harus diisi, dan ada yang optional default argumen\n",
        "\n"
      ],
      "metadata": {
        "id": "U34JKBokjFBS"
      }
    },
    {
      "cell_type": "code",
      "source": [],
      "metadata": {
        "id": "DVRLQt0miadC"
      },
      "execution_count": null,
      "outputs": []
    }
  ]
}