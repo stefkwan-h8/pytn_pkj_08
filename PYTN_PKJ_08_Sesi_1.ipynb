{
  "nbformat": 4,
  "nbformat_minor": 0,
  "metadata": {
    "colab": {
      "provenance": []
    },
    "kernelspec": {
      "name": "python3",
      "display_name": "Python 3"
    },
    "language_info": {
      "name": "python"
    }
  },
  "cells": [
    {
      "cell_type": "markdown",
      "source": [
        "# Fundamental Python\n",
        "- tipe data yang dimengerti Python\n",
        "  - integer `123`\n",
        "  - float `123.0`\n",
        "  - string `\"saya Text! 123\"`\n",
        "  - boolean `True` `False`\n",
        "  - list `[]` `[1,2,3]`\n",
        "  - tuple `()` `(1,2,3)`\n",
        "  - dictionary `{\"apel\":2500, \"pisang\":3500}`\n",
        "- simpan data di variable, punya nama, bisa dipanggil lagi\n",
        "- teknik pemrograman mendasar:\n",
        "  - conditional `if` `elif` `else`\n",
        "  - loop `for`, `while`\n",
        "  - function `def`"
      ],
      "metadata": {
        "id": "OKkdjaCwHLsA"
      }
    },
    {
      "cell_type": "code",
      "execution_count": 2,
      "metadata": {
        "id": "E-Henwu8HE4V"
      },
      "outputs": [],
      "source": [
        "nama_murid = \"Andhika\""
      ]
    },
    {
      "cell_type": "code",
      "source": [
        "nama_murid"
      ],
      "metadata": {
        "colab": {
          "base_uri": "https://localhost:8080/",
          "height": 37
        },
        "id": "K9rw3FyvIxEw",
        "outputId": "1f2c885e-3979-4d87-99ae-ac6186784bee"
      },
      "execution_count": 3,
      "outputs": [
        {
          "output_type": "execute_result",
          "data": {
            "text/plain": [
              "'Andhika'"
            ],
            "application/vnd.google.colaboratory.intrinsic+json": {
              "type": "string"
            }
          },
          "metadata": {},
          "execution_count": 3
        }
      ]
    },
    {
      "cell_type": "code",
      "source": [
        "nama_murid = nama_murid + \"Widjaja\""
      ],
      "metadata": {
        "id": "3E7Yt-XUI8S_"
      },
      "execution_count": 4,
      "outputs": []
    },
    {
      "cell_type": "code",
      "source": [
        "nama_murid"
      ],
      "metadata": {
        "colab": {
          "base_uri": "https://localhost:8080/",
          "height": 37
        },
        "id": "J9u3uSpYI-io",
        "outputId": "507f7651-0836-4bf6-8873-b97888d28089"
      },
      "execution_count": 5,
      "outputs": [
        {
          "output_type": "execute_result",
          "data": {
            "text/plain": [
              "'AndhikaWidjaja'"
            ],
            "application/vnd.google.colaboratory.intrinsic+json": {
              "type": "string"
            }
          },
          "metadata": {},
          "execution_count": 5
        }
      ]
    },
    {
      "cell_type": "code",
      "source": [
        "nama_murid = \"Budi Budiman\""
      ],
      "metadata": {
        "id": "ODujg-0XI_nY"
      },
      "execution_count": 6,
      "outputs": []
    },
    {
      "cell_type": "code",
      "source": [
        "nama_murid"
      ],
      "metadata": {
        "colab": {
          "base_uri": "https://localhost:8080/",
          "height": 37
        },
        "id": "cOHsK61qJDPq",
        "outputId": "33e807e5-16b1-4832-8f03-faeb0f208313"
      },
      "execution_count": 7,
      "outputs": [
        {
          "output_type": "execute_result",
          "data": {
            "text/plain": [
              "'Budi Budiman'"
            ],
            "application/vnd.google.colaboratory.intrinsic+json": {
              "type": "string"
            }
          },
          "metadata": {},
          "execution_count": 7
        }
      ]
    },
    {
      "cell_type": "code",
      "source": [
        "# untuk mengecek tipe data kita bisa gunakan function type buatan python\n",
        "\n",
        "type(123)"
      ],
      "metadata": {
        "colab": {
          "base_uri": "https://localhost:8080/"
        },
        "id": "-DakHrccJDzC",
        "outputId": "fd5c2c8b-e2bf-484f-a4ce-5d32188f984f"
      },
      "execution_count": 8,
      "outputs": [
        {
          "output_type": "execute_result",
          "data": {
            "text/plain": [
              "int"
            ]
          },
          "metadata": {},
          "execution_count": 8
        }
      ]
    },
    {
      "cell_type": "code",
      "source": [
        "type(5.5)"
      ],
      "metadata": {
        "colab": {
          "base_uri": "https://localhost:8080/"
        },
        "id": "9P51RmibJWzC",
        "outputId": "96a24274-e6db-4cc0-b75d-7cbf995583e7"
      },
      "execution_count": 9,
      "outputs": [
        {
          "output_type": "execute_result",
          "data": {
            "text/plain": [
              "float"
            ]
          },
          "metadata": {},
          "execution_count": 9
        }
      ]
    },
    {
      "cell_type": "markdown",
      "source": [
        "dengan menggunakan function type(), kita bisa mengecek tipe data. contohnya diatas, int (integer) dan float (floating point number) adalah dua tipe data yang dimengerti Python. angka bulat tanpa koma, dan angka yang punya koma.\n",
        "\n",
        "tipe data A bisa kita ubah menjadi tipe data B. int bisa kita ubah jadi float, float jadi int, dan lain2. contoh:"
      ],
      "metadata": {
        "id": "Gv1jQBoXJdx5"
      }
    },
    {
      "cell_type": "code",
      "source": [
        "float(123)"
      ],
      "metadata": {
        "colab": {
          "base_uri": "https://localhost:8080/"
        },
        "id": "chyFo9CfJaDc",
        "outputId": "cc78779c-4a2f-46f9-e5ef-c51a0955f307"
      },
      "execution_count": 10,
      "outputs": [
        {
          "output_type": "execute_result",
          "data": {
            "text/plain": [
              "123.0"
            ]
          },
          "metadata": {},
          "execution_count": 10
        }
      ]
    },
    {
      "cell_type": "code",
      "source": [
        "int(5.5)"
      ],
      "metadata": {
        "colab": {
          "base_uri": "https://localhost:8080/"
        },
        "id": "QpJ2GA53J2jU",
        "outputId": "719572d9-aaba-4766-9dc8-1477015f505c"
      },
      "execution_count": 11,
      "outputs": [
        {
          "output_type": "execute_result",
          "data": {
            "text/plain": [
              "5"
            ]
          },
          "metadata": {},
          "execution_count": 11
        }
      ]
    },
    {
      "cell_type": "markdown",
      "source": [
        "misalkan kita punya data penjualan rumah. ada detail rumahnya dari luas tanah, luas bangunan, dan jumlah kamar tidur. apakah kita mau menggunakan float atau int untuk masing masing data ini?\n",
        "\n",
        "luas tanah - float? 100.5 sqm? atau int jadi bulat 100 sqm?\n",
        "\n",
        "luas bangunan - float? 60.78 sqm? atau int? 61 sqm?\n",
        "\n",
        "jumlah kamar tidur - float? 2.5 kamar? int 3 kamar?\n",
        "\n",
        "tipe data bisa kita pilih yang sesuai untuk merapikan data"
      ],
      "metadata": {
        "id": "QJv6v7SnKApw"
      }
    },
    {
      "cell_type": "code",
      "source": [
        "\"saya string bisa diisi text TEXT angka 123 simbol !@#%$^^& gk masalah\""
      ],
      "metadata": {
        "colab": {
          "base_uri": "https://localhost:8080/",
          "height": 37
        },
        "id": "tDAHH5TOJ39I",
        "outputId": "7ba0ebf6-7c2d-4891-ba20-8311438a4b2e"
      },
      "execution_count": 12,
      "outputs": [
        {
          "output_type": "execute_result",
          "data": {
            "text/plain": [
              "'saya string bisa diisi text TEXT angka 123 simbol !@#%$^^& gk masalah'"
            ],
            "application/vnd.google.colaboratory.intrinsic+json": {
              "type": "string"
            }
          },
          "metadata": {},
          "execution_count": 12
        }
      ]
    },
    {
      "cell_type": "code",
      "source": [
        "type(\"halo\")"
      ],
      "metadata": {
        "colab": {
          "base_uri": "https://localhost:8080/"
        },
        "id": "hGSzNG2XK0Ha",
        "outputId": "74a57db4-8322-4206-d14e-dc6d97f4da7d"
      },
      "execution_count": 13,
      "outputs": [
        {
          "output_type": "execute_result",
          "data": {
            "text/plain": [
              "str"
            ]
          },
          "metadata": {},
          "execution_count": 13
        }
      ]
    },
    {
      "cell_type": "markdown",
      "source": [
        "perhatikan setiap tipe data ada singkatannya di Python. ini adalah nama class nya. kita bisa gunakan nama class ini untuk mengubah tipe data lain jadi tipe data tersebut.\n",
        "\n",
        "```python\n",
        "int(angka_lain)\n",
        "```\n",
        "kita mengubah angka_lain menjadi integer int\n",
        "\n",
        "nama class untuk tipe data yang kita pelajari:\n",
        "- int\n",
        "- float\n",
        "- str\n",
        "- bool\n",
        "- list\n",
        "- tuple\n",
        "- dict"
      ],
      "metadata": {
        "id": "iexqPNKeK3Gx"
      }
    },
    {
      "cell_type": "code",
      "source": [
        "type(True)"
      ],
      "metadata": {
        "colab": {
          "base_uri": "https://localhost:8080/"
        },
        "id": "aHiuMD0_K16b",
        "outputId": "88b23b06-fcf0-4be6-88e9-a8652c155bb9"
      },
      "execution_count": 14,
      "outputs": [
        {
          "output_type": "execute_result",
          "data": {
            "text/plain": [
              "bool"
            ]
          },
          "metadata": {},
          "execution_count": 14
        }
      ]
    },
    {
      "cell_type": "code",
      "source": [
        "type(False)"
      ],
      "metadata": {
        "colab": {
          "base_uri": "https://localhost:8080/"
        },
        "id": "DhDj6hEILQ0e",
        "outputId": "5ad6ce39-85a5-473c-b9e7-f3c2c9d5ef4d"
      },
      "execution_count": 15,
      "outputs": [
        {
          "output_type": "execute_result",
          "data": {
            "text/plain": [
              "bool"
            ]
          },
          "metadata": {},
          "execution_count": 15
        }
      ]
    },
    {
      "cell_type": "code",
      "source": [
        "# ubah string jadi boolean\n",
        "message = \"Selamat datang di Sesi#1 kelas Python Hacktiv8 batch 8!\"\n",
        "\n",
        "bool(message)"
      ],
      "metadata": {
        "colab": {
          "base_uri": "https://localhost:8080/"
        },
        "id": "GTCIzzAuLSB2",
        "outputId": "4008e59c-e4a3-4142-b04c-2e5ecbffdb9a"
      },
      "execution_count": 16,
      "outputs": [
        {
          "output_type": "execute_result",
          "data": {
            "text/plain": [
              "True"
            ]
          },
          "metadata": {},
          "execution_count": 16
        }
      ]
    },
    {
      "cell_type": "code",
      "source": [
        "int(message)"
      ],
      "metadata": {
        "colab": {
          "base_uri": "https://localhost:8080/",
          "height": 166
        },
        "id": "RUExpyOeLfqL",
        "outputId": "4f0c8fd3-5e4c-45d4-e90a-b328e338f12e"
      },
      "execution_count": 17,
      "outputs": [
        {
          "output_type": "error",
          "ename": "ValueError",
          "evalue": "ignored",
          "traceback": [
            "\u001b[0;31m---------------------------------------------------------------------------\u001b[0m",
            "\u001b[0;31mValueError\u001b[0m                                Traceback (most recent call last)",
            "\u001b[0;32m<ipython-input-17-72c438e84f80>\u001b[0m in \u001b[0;36m<module>\u001b[0;34m\u001b[0m\n\u001b[0;32m----> 1\u001b[0;31m \u001b[0mint\u001b[0m\u001b[0;34m(\u001b[0m\u001b[0mmessage\u001b[0m\u001b[0;34m)\u001b[0m\u001b[0;34m\u001b[0m\u001b[0;34m\u001b[0m\u001b[0m\n\u001b[0m",
            "\u001b[0;31mValueError\u001b[0m: invalid literal for int() with base 10: 'Selamat datang di Sesi#1 kelas Python Hacktiv8 batch 8!'"
          ]
        }
      ]
    },
    {
      "cell_type": "markdown",
      "source": [
        "walau kita bisa ubah string message menjadi boolean, tapi error kalau kita ubah jadi integer int, kenapa?\n",
        "\n",
        "tidak bisa ubah alfabet, spasi, dan simbol menjadi angka integer. jadi error.\n",
        "\n",
        "kalau isi string str nya adalah angka semua, baru tidak error kita ubah jadi integer int."
      ],
      "metadata": {
        "id": "sMrXzVMoLjQJ"
      }
    },
    {
      "cell_type": "code",
      "source": [
        "# aslinya nilai berisi string\n",
        "nilai = \"100\"\n",
        "type(nilai)"
      ],
      "metadata": {
        "colab": {
          "base_uri": "https://localhost:8080/"
        },
        "id": "8HUF1elELhtd",
        "outputId": "3bcf8e86-a346-436f-b698-ad1a6ebafb22"
      },
      "execution_count": 18,
      "outputs": [
        {
          "output_type": "execute_result",
          "data": {
            "text/plain": [
              "str"
            ]
          },
          "metadata": {},
          "execution_count": 18
        }
      ]
    },
    {
      "cell_type": "code",
      "source": [
        "# nilai jadi integer\n",
        "int(nilai)"
      ],
      "metadata": {
        "colab": {
          "base_uri": "https://localhost:8080/"
        },
        "id": "5SIbPbkiL1kV",
        "outputId": "d6f25972-c039-4bd7-f56e-d2724231a290"
      },
      "execution_count": 19,
      "outputs": [
        {
          "output_type": "execute_result",
          "data": {
            "text/plain": [
              "100"
            ]
          },
          "metadata": {},
          "execution_count": 19
        }
      ]
    },
    {
      "cell_type": "code",
      "source": [
        "# nilai jadi boolean\n",
        "bool(nilai)"
      ],
      "metadata": {
        "colab": {
          "base_uri": "https://localhost:8080/"
        },
        "id": "JeCLGT33L3VV",
        "outputId": "132aa03f-c710-47a2-afea-734b28e4ad28"
      },
      "execution_count": 20,
      "outputs": [
        {
          "output_type": "execute_result",
          "data": {
            "text/plain": [
              "True"
            ]
          },
          "metadata": {},
          "execution_count": 20
        }
      ]
    },
    {
      "cell_type": "code",
      "source": [
        "# nilai jadi float\n",
        "float(nilai)"
      ],
      "metadata": {
        "colab": {
          "base_uri": "https://localhost:8080/"
        },
        "id": "8X3eEFCUOIIk",
        "outputId": "4e56b13a-2b8b-4cc1-bd7f-d1f176f7921d"
      },
      "execution_count": 21,
      "outputs": [
        {
          "output_type": "execute_result",
          "data": {
            "text/plain": [
              "100.0"
            ]
          },
          "metadata": {},
          "execution_count": 21
        }
      ]
    },
    {
      "cell_type": "code",
      "source": [
        "# nilai skr tipe data apa?\n",
        "type(nilai)"
      ],
      "metadata": {
        "colab": {
          "base_uri": "https://localhost:8080/"
        },
        "id": "V7m9wYGJOJ48",
        "outputId": "aaaf4b74-4838-49f8-eb6d-6a94e4019a61"
      },
      "execution_count": 22,
      "outputs": [
        {
          "output_type": "execute_result",
          "data": {
            "text/plain": [
              "str"
            ]
          },
          "metadata": {},
          "execution_count": 22
        }
      ]
    },
    {
      "cell_type": "code",
      "source": [
        "nilai"
      ],
      "metadata": {
        "colab": {
          "base_uri": "https://localhost:8080/",
          "height": 37
        },
        "id": "y3C-EJQnOSIH",
        "outputId": "0d2c0a04-0d81-42fd-f282-a25c99c3d232"
      },
      "execution_count": 23,
      "outputs": [
        {
          "output_type": "execute_result",
          "data": {
            "text/plain": [
              "'100'"
            ],
            "application/vnd.google.colaboratory.intrinsic+json": {
              "type": "string"
            }
          },
          "metadata": {},
          "execution_count": 23
        }
      ]
    },
    {
      "cell_type": "code",
      "source": [
        "# isi variable nilai tidak berubah, kalau mau berubah, kita harus sengaja ubah\n",
        "nilai = 80\n",
        "\n",
        "nilai = int(\"75\")\n",
        "\n",
        "nilai = float(250)"
      ],
      "metadata": {
        "id": "G9ozJg28OTcg"
      },
      "execution_count": 24,
      "outputs": []
    },
    {
      "cell_type": "code",
      "source": [
        "# baru nilai berubah, menjadi yang terakhir kita ubah\n",
        "nilai"
      ],
      "metadata": {
        "colab": {
          "base_uri": "https://localhost:8080/"
        },
        "id": "GkeWWoOGOeaU",
        "outputId": "9decf17c-0eb9-4ba7-bb9e-cef752492666"
      },
      "execution_count": 25,
      "outputs": [
        {
          "output_type": "execute_result",
          "data": {
            "text/plain": [
              "250.0"
            ]
          },
          "metadata": {},
          "execution_count": 25
        }
      ]
    },
    {
      "cell_type": "code",
      "source": [
        "type(nilai)"
      ],
      "metadata": {
        "colab": {
          "base_uri": "https://localhost:8080/"
        },
        "id": "au1BckkKOhwF",
        "outputId": "b5e50d8b-3e69-4a9a-bf84-6d58d8b5dc6e"
      },
      "execution_count": 26,
      "outputs": [
        {
          "output_type": "execute_result",
          "data": {
            "text/plain": [
              "float"
            ]
          },
          "metadata": {},
          "execution_count": 26
        }
      ]
    },
    {
      "cell_type": "markdown",
      "source": [
        "sebuah variable isinya tidak berubah sampai kita sengaja ubah.\n",
        "\n",
        "di contoh diatas, variable nilai isinya tetap \"100\" sampai kita bilang nilai = 80, lalu nilai = int..., lalu nilai = ... barulah isinya berubah\n",
        "\n",
        "perubahan isi variable ini namanya `variable re-assignment`\n",
        "\n",
        "## variable\n",
        "dalam membuat nama variable, kita tidak boleh:\n",
        "- memulai dengan angka\n",
        "- menggunakan spasi\n",
        "- keyword python\n",
        "\n",
        "kita boleh:\n",
        "- menggunakan huruf kecil semua\n",
        "- pakai simbol _ menggantikan spasi\n",
        "- pilih nama yang mendeskripsikan data nya\n",
        "\n",
        "contoh: kita mau simpan nilai nya andi\n",
        "\n",
        "ini contoh membuat variable yang mudah diingat dan jelas\n",
        "```python\n",
        "nilai_andi = 80\n",
        "```\n",
        "\n",
        "ini contoh membuat variable yang kurang deskriptif, kita akan lupa nantinya n itu untuk apa\n",
        "```python\n",
        "n = 90\n",
        "```\n"
      ],
      "metadata": {
        "id": "yfRRKbQVOnv5"
      }
    },
    {
      "cell_type": "code",
      "source": [
        "True\n",
        "False\n",
        "\n",
        "type(True)"
      ],
      "metadata": {
        "colab": {
          "base_uri": "https://localhost:8080/"
        },
        "id": "HEXigwoUOjvu",
        "outputId": "ffee94ea-b107-4c72-f376-8eb045e51c7a"
      },
      "execution_count": 27,
      "outputs": [
        {
          "output_type": "execute_result",
          "data": {
            "text/plain": [
              "bool"
            ]
          },
          "metadata": {},
          "execution_count": 27
        }
      ]
    },
    {
      "cell_type": "markdown",
      "source": [
        "semua tipe data bisa di convert ke boolean. bool memilih data tersebut termasuk True atau False. untuk data yang kosong dianggap False, yang tidak kosong dianggap True.\n",
        "\n",
        "contoh data yang akan dianggap False oleh boolean:\n",
        "- False\n",
        "- 0\n",
        "- 0.0\n",
        "- -0\n",
        "- -0.0\n",
        "- \"\"\n",
        "- []\n",
        "- ()\n",
        "- {}\n",
        "\n",
        "sementara data lain asal ada isinya dianggap True:\n",
        "- -100\n",
        "- -7.0\n",
        "- \"kosong\"\n",
        "- [\"a\"]"
      ],
      "metadata": {
        "id": "QTSOl3g2QYOZ"
      }
    },
    {
      "cell_type": "code",
      "source": [
        "# andi berkacamata atau tidak\n",
        "andi_berkacamata = True"
      ],
      "metadata": {
        "id": "MYQsy8FrQV7v"
      },
      "execution_count": 28,
      "outputs": []
    },
    {
      "cell_type": "code",
      "source": [
        "andi_berkacamata"
      ],
      "metadata": {
        "colab": {
          "base_uri": "https://localhost:8080/"
        },
        "id": "G1i_BOoHQ7I2",
        "outputId": "fee9eb6a-5fb4-428b-911b-0e91b80b4e1d"
      },
      "execution_count": 29,
      "outputs": [
        {
          "output_type": "execute_result",
          "data": {
            "text/plain": [
              "True"
            ]
          },
          "metadata": {},
          "execution_count": 29
        }
      ]
    },
    {
      "cell_type": "code",
      "source": [
        "type(andi_berkacamata)"
      ],
      "metadata": {
        "colab": {
          "base_uri": "https://localhost:8080/"
        },
        "id": "uNnL5wDHQ9T3",
        "outputId": "2e1ed810-9e61-441b-cc50-72c791c83ae3"
      },
      "execution_count": 30,
      "outputs": [
        {
          "output_type": "execute_result",
          "data": {
            "text/plain": [
              "bool"
            ]
          },
          "metadata": {},
          "execution_count": 30
        }
      ]
    },
    {
      "cell_type": "code",
      "source": [
        "# convert boolean ke string\n",
        "str(andi_berkacamata)"
      ],
      "metadata": {
        "colab": {
          "base_uri": "https://localhost:8080/",
          "height": 37
        },
        "id": "r9K8NHNHQ-Gv",
        "outputId": "5c41240d-820b-4747-f1b9-fc485f431da0"
      },
      "execution_count": 31,
      "outputs": [
        {
          "output_type": "execute_result",
          "data": {
            "text/plain": [
              "'True'"
            ],
            "application/vnd.google.colaboratory.intrinsic+json": {
              "type": "string"
            }
          },
          "metadata": {},
          "execution_count": 31
        }
      ]
    },
    {
      "cell_type": "code",
      "source": [
        "# convert boolean ke integer\n",
        "int(andi_berkacamata)"
      ],
      "metadata": {
        "colab": {
          "base_uri": "https://localhost:8080/"
        },
        "id": "0sJVJrz2RAgR",
        "outputId": "b8161c66-f4a9-409e-f36f-952731d8ad6d"
      },
      "execution_count": 32,
      "outputs": [
        {
          "output_type": "execute_result",
          "data": {
            "text/plain": [
              "1"
            ]
          },
          "metadata": {},
          "execution_count": 32
        }
      ]
    },
    {
      "cell_type": "code",
      "source": [
        "# convert boolean ke float\n",
        "float(andi_berkacamata)"
      ],
      "metadata": {
        "colab": {
          "base_uri": "https://localhost:8080/"
        },
        "id": "tcHg23ZcRD2i",
        "outputId": "e3217081-261c-4c5b-b259-48ee6422827c"
      },
      "execution_count": 33,
      "outputs": [
        {
          "output_type": "execute_result",
          "data": {
            "text/plain": [
              "1.0"
            ]
          },
          "metadata": {},
          "execution_count": 33
        }
      ]
    },
    {
      "cell_type": "markdown",
      "source": [
        "1 untuk True, 0 untuk False."
      ],
      "metadata": {
        "id": "4UQeRgFpRIsi"
      }
    },
    {
      "cell_type": "markdown",
      "source": [
        "# List\n",
        "\n",
        "tipe data yang isinya banyak data\n",
        "\n",
        "isinya juga bisa campur aduk\n",
        "\n",
        "setiap data yang ada di dalam list, diberikan angka index. item pertama dapet index 0, item kedua dapet index 1, ... seterusnya\n",
        "\n",
        "contoh, jika kita punya list berisi 3 string\n",
        "```python\n",
        "buah_buahan = [\"apel\", \"mangga\", \"jeruk\"]\n",
        "```\n",
        "\n",
        "maka untuk mendapatkan string \"apel\" kita bisa panggil\n",
        "```python\n",
        "buah_buahan[0]\n",
        "```"
      ],
      "metadata": {
        "id": "v2HKrtFjRabh"
      }
    },
    {
      "cell_type": "code",
      "source": [
        "buah_buahan = [\"apel\", \"mangga\", \"jeruk\"]\n",
        "\n",
        "buah_buahan[0]"
      ],
      "metadata": {
        "colab": {
          "base_uri": "https://localhost:8080/",
          "height": 37
        },
        "id": "athFpr4kRHZD",
        "outputId": "2613be30-6acf-4202-9a1a-a9088bf56912"
      },
      "execution_count": 34,
      "outputs": [
        {
          "output_type": "execute_result",
          "data": {
            "text/plain": [
              "'apel'"
            ],
            "application/vnd.google.colaboratory.intrinsic+json": {
              "type": "string"
            }
          },
          "metadata": {},
          "execution_count": 34
        }
      ]
    },
    {
      "cell_type": "code",
      "source": [
        "type(buah_buahan)"
      ],
      "metadata": {
        "colab": {
          "base_uri": "https://localhost:8080/"
        },
        "id": "oWboCBTkR6Ix",
        "outputId": "efbbae01-09ea-4a34-9ee3-4b8957d718e3"
      },
      "execution_count": 35,
      "outputs": [
        {
          "output_type": "execute_result",
          "data": {
            "text/plain": [
              "list"
            ]
          },
          "metadata": {},
          "execution_count": 35
        }
      ]
    },
    {
      "cell_type": "code",
      "source": [
        "# list tidak bisa jadi integer\n",
        "int(buah_buahan)"
      ],
      "metadata": {
        "colab": {
          "base_uri": "https://localhost:8080/",
          "height": 166
        },
        "id": "ypFOzjPOR8ya",
        "outputId": "6340c5b7-ebaf-40f3-dd92-56e940e1f164"
      },
      "execution_count": 36,
      "outputs": [
        {
          "output_type": "error",
          "ename": "TypeError",
          "evalue": "ignored",
          "traceback": [
            "\u001b[0;31m---------------------------------------------------------------------------\u001b[0m",
            "\u001b[0;31mTypeError\u001b[0m                                 Traceback (most recent call last)",
            "\u001b[0;32m<ipython-input-36-488fa893b693>\u001b[0m in \u001b[0;36m<module>\u001b[0;34m\u001b[0m\n\u001b[0;32m----> 1\u001b[0;31m \u001b[0mint\u001b[0m\u001b[0;34m(\u001b[0m\u001b[0mbuah_buahan\u001b[0m\u001b[0;34m)\u001b[0m\u001b[0;34m\u001b[0m\u001b[0;34m\u001b[0m\u001b[0m\n\u001b[0m",
            "\u001b[0;31mTypeError\u001b[0m: int() argument must be a string, a bytes-like object or a number, not 'list'"
          ]
        }
      ]
    },
    {
      "cell_type": "code",
      "source": [
        "# list bisa jadi boolean\n",
        "bool(buah_buahan)"
      ],
      "metadata": {
        "colab": {
          "base_uri": "https://localhost:8080/"
        },
        "id": "bR99z-SCR_R7",
        "outputId": "76477b94-ceaa-4d29-a320-e1408cf60469"
      },
      "execution_count": 37,
      "outputs": [
        {
          "output_type": "execute_result",
          "data": {
            "text/plain": [
              "True"
            ]
          },
          "metadata": {},
          "execution_count": 37
        }
      ]
    },
    {
      "cell_type": "code",
      "source": [
        "# aku mau ambil \"mangga\"\n",
        "buah_buahan"
      ],
      "metadata": {
        "colab": {
          "base_uri": "https://localhost:8080/"
        },
        "id": "tW53b511SEUd",
        "outputId": "27b3f70f-f9eb-4e39-f048-f331f5fe674d"
      },
      "execution_count": 38,
      "outputs": [
        {
          "output_type": "execute_result",
          "data": {
            "text/plain": [
              "['apel', 'mangga', 'jeruk']"
            ]
          },
          "metadata": {},
          "execution_count": 38
        }
      ]
    },
    {
      "cell_type": "code",
      "source": [
        "buah_buahan[1]"
      ],
      "metadata": {
        "colab": {
          "base_uri": "https://localhost:8080/",
          "height": 37
        },
        "id": "hO7Qoiq_SJT3",
        "outputId": "25cc07d5-d863-489d-f524-99dda17068da"
      },
      "execution_count": 39,
      "outputs": [
        {
          "output_type": "execute_result",
          "data": {
            "text/plain": [
              "'mangga'"
            ],
            "application/vnd.google.colaboratory.intrinsic+json": {
              "type": "string"
            }
          },
          "metadata": {},
          "execution_count": 39
        }
      ]
    },
    {
      "cell_type": "code",
      "source": [
        "# CRUD - create read update delete - konsep dimana kita perlu belajar 4 teknik ke tipe data baru\n",
        "# Create list\n",
        "[]\n",
        "\n",
        "buah_buahan = []\n",
        "\n",
        "buah_buahan = [\"kelapa\", \"manggis\", \"duku\"]\n",
        "\n",
        "\n",
        "# Read list\n",
        "# keseluruhan list, nama variable nya\n",
        "buah_buahan\n",
        "\n",
        "# satu item di dalam list, gunakan angka index\n",
        "buah_buahan[0]"
      ],
      "metadata": {
        "colab": {
          "base_uri": "https://localhost:8080/",
          "height": 37
        },
        "id": "_WAoE3JkSMD5",
        "outputId": "6b9131c9-c722-4318-80d9-dfb5c40e62ed"
      },
      "execution_count": 40,
      "outputs": [
        {
          "output_type": "execute_result",
          "data": {
            "text/plain": [
              "'kelapa'"
            ],
            "application/vnd.google.colaboratory.intrinsic+json": {
              "type": "string"
            }
          },
          "metadata": {},
          "execution_count": 40
        }
      ]
    },
    {
      "cell_type": "code",
      "source": [
        "# Update list\n",
        "# menambahkan item kedalam list pakai + atau pakai append()\n",
        "buah_buahan = buah_buahan + [\"apel\"]"
      ],
      "metadata": {
        "id": "0mmso_LeSkLz"
      },
      "execution_count": 41,
      "outputs": []
    },
    {
      "cell_type": "code",
      "source": [
        "buah_buahan"
      ],
      "metadata": {
        "colab": {
          "base_uri": "https://localhost:8080/"
        },
        "id": "V6e2niTqSsv3",
        "outputId": "7475e3dc-21de-480d-c44a-5e2392387cab"
      },
      "execution_count": 42,
      "outputs": [
        {
          "output_type": "execute_result",
          "data": {
            "text/plain": [
              "['kelapa', 'manggis', 'duku', 'apel']"
            ]
          },
          "metadata": {},
          "execution_count": 42
        }
      ]
    },
    {
      "cell_type": "code",
      "source": [
        "buah_buahan.append(\"semangka\")"
      ],
      "metadata": {
        "id": "esFmPDZ2StxH"
      },
      "execution_count": 43,
      "outputs": []
    },
    {
      "cell_type": "code",
      "source": [
        "buah_buahan"
      ],
      "metadata": {
        "colab": {
          "base_uri": "https://localhost:8080/"
        },
        "id": "TsLH11AfSx8p",
        "outputId": "063bc4ac-169b-4c27-e051-201a3c6d2316"
      },
      "execution_count": 44,
      "outputs": [
        {
          "output_type": "execute_result",
          "data": {
            "text/plain": [
              "['kelapa', 'manggis', 'duku', 'apel', 'semangka']"
            ]
          },
          "metadata": {},
          "execution_count": 44
        }
      ]
    },
    {
      "cell_type": "code",
      "source": [
        "# mau ubah manggis jadi tomat\n",
        "buah_buahan[1] = \"tomat\""
      ],
      "metadata": {
        "id": "bcO3T84CSyxg"
      },
      "execution_count": 45,
      "outputs": []
    },
    {
      "cell_type": "code",
      "source": [
        "buah_buahan"
      ],
      "metadata": {
        "colab": {
          "base_uri": "https://localhost:8080/"
        },
        "id": "qoa99ViyS6Lb",
        "outputId": "f6c28b9e-0745-4059-8dd9-ffd4987bd98d"
      },
      "execution_count": 46,
      "outputs": [
        {
          "output_type": "execute_result",
          "data": {
            "text/plain": [
              "['kelapa', 'tomat', 'duku', 'apel', 'semangka']"
            ]
          },
          "metadata": {},
          "execution_count": 46
        }
      ]
    },
    {
      "cell_type": "code",
      "source": [
        "# kurangi duku\n",
        "buah_buahan.remove(\"duku\")"
      ],
      "metadata": {
        "id": "eiCq5eerS7E8"
      },
      "execution_count": 47,
      "outputs": []
    },
    {
      "cell_type": "code",
      "source": [
        "buah_buahan"
      ],
      "metadata": {
        "colab": {
          "base_uri": "https://localhost:8080/"
        },
        "id": "Z_2QI0isTCVP",
        "outputId": "987546d2-df57-4870-8ffd-40e7b4f4476f"
      },
      "execution_count": 48,
      "outputs": [
        {
          "output_type": "execute_result",
          "data": {
            "text/plain": [
              "['kelapa', 'tomat', 'apel', 'semangka']"
            ]
          },
          "metadata": {},
          "execution_count": 48
        }
      ]
    },
    {
      "cell_type": "code",
      "source": [
        "# delete\n",
        "# umumnya kita re-assign variable nya menjadi list kosong saja\n",
        "buah_buahan = []"
      ],
      "metadata": {
        "id": "MlbyKuFvTDU4"
      },
      "execution_count": 49,
      "outputs": []
    },
    {
      "cell_type": "markdown",
      "source": [
        "## Tuple\n",
        "mirip sama list, bisa dibuat, bisa dibaca, bedanya adalah tuple tidak bisa diubah\n",
        "\n",
        "buat dan baca saja.\n",
        "\n",
        "tuple bisa di convert jadi list, list bisa di convert jadi tuple"
      ],
      "metadata": {
        "id": "emLNwPL0TPFD"
      }
    },
    {
      "cell_type": "code",
      "source": [
        "buah_buahan = (\"jeruk\", \"alpukat\", \"buah naga\")"
      ],
      "metadata": {
        "id": "Yo9TshPBTJx6"
      },
      "execution_count": 52,
      "outputs": []
    },
    {
      "cell_type": "code",
      "source": [
        "list(buah_buahan)"
      ],
      "metadata": {
        "colab": {
          "base_uri": "https://localhost:8080/"
        },
        "id": "2VRvFFdaTZvK",
        "outputId": "c003638e-e5d7-429e-fbbf-80bd8bffdf7f"
      },
      "execution_count": 53,
      "outputs": [
        {
          "output_type": "execute_result",
          "data": {
            "text/plain": [
              "['jeruk', 'alpukat', 'buah naga']"
            ]
          },
          "metadata": {},
          "execution_count": 53
        }
      ]
    },
    {
      "cell_type": "code",
      "source": [
        "# biasanya, kalau mau edit tuple, kita convert jadi list dulu, edit, baru convert balik ke tuple\n",
        "# tuple untuk memastikan datanya tidak berubah, gk bisa dirubah"
      ],
      "metadata": {
        "id": "DpPDdRAcTbFi"
      },
      "execution_count": 54,
      "outputs": []
    },
    {
      "cell_type": "markdown",
      "source": [
        "# Dictionary\n",
        "mirip list, tapi setiap item di dalam dictionary tidak diberikan angka index. setiap item dalam dictionary mempunya pasangan key. setiap item adalah sepasang key:value.\n",
        "\n",
        "key harus string\n",
        "\n",
        "value bebas tipe data apapun"
      ],
      "metadata": {
        "id": "8SQSbL7WTyus"
      }
    },
    {
      "cell_type": "code",
      "source": [
        "# andi jadi dictionary kita simpan data2 andi\n",
        "# Create\n",
        "andi = {\"nama\":\"Andhika Widjaja\", \"umur\":52, \"hobi\":[\"bulutangkis\", \"memasak\", \"coding\"]}\n",
        "\n",
        "andi"
      ],
      "metadata": {
        "colab": {
          "base_uri": "https://localhost:8080/"
        },
        "id": "lEIHvU10TxdT",
        "outputId": "856a4e13-2932-4b46-fb3e-8c59d1f16baf"
      },
      "execution_count": 55,
      "outputs": [
        {
          "output_type": "execute_result",
          "data": {
            "text/plain": [
              "{'nama': 'Andhika Widjaja',\n",
              " 'umur': 52,\n",
              " 'hobi': ['bulutangkis', 'memasak', 'coding']}"
            ]
          },
          "metadata": {},
          "execution_count": 55
        }
      ]
    },
    {
      "cell_type": "code",
      "source": [
        "# Read\n",
        "# namanya saja\n",
        "andi[\"nama\"]"
      ],
      "metadata": {
        "colab": {
          "base_uri": "https://localhost:8080/",
          "height": 37
        },
        "id": "TtPOc2yQUVmK",
        "outputId": "aa848dec-437e-4b77-c197-5417f026d2b9"
      },
      "execution_count": 56,
      "outputs": [
        {
          "output_type": "execute_result",
          "data": {
            "text/plain": [
              "'Andhika Widjaja'"
            ],
            "application/vnd.google.colaboratory.intrinsic+json": {
              "type": "string"
            }
          },
          "metadata": {},
          "execution_count": 56
        }
      ]
    },
    {
      "cell_type": "code",
      "source": [
        "# hobi nya saja\n",
        "andi[\"hobi\"]"
      ],
      "metadata": {
        "colab": {
          "base_uri": "https://localhost:8080/"
        },
        "id": "PYUxJdGPUfV-",
        "outputId": "d78d02da-76bf-49c0-8b35-ff10a9b3a5b7"
      },
      "execution_count": 57,
      "outputs": [
        {
          "output_type": "execute_result",
          "data": {
            "text/plain": [
              "['bulutangkis', 'memasak', 'coding']"
            ]
          },
          "metadata": {},
          "execution_count": 57
        }
      ]
    },
    {
      "cell_type": "code",
      "source": [
        "# hobi pertama nya? hobi isinya list isi 3\n",
        "andi[\"hobi\"][0]"
      ],
      "metadata": {
        "colab": {
          "base_uri": "https://localhost:8080/",
          "height": 37
        },
        "id": "TQEVK8wJUiH_",
        "outputId": "dd195cbd-415c-47dc-9845-5d7d689d5f95"
      },
      "execution_count": 59,
      "outputs": [
        {
          "output_type": "execute_result",
          "data": {
            "text/plain": [
              "'bulutangkis'"
            ],
            "application/vnd.google.colaboratory.intrinsic+json": {
              "type": "string"
            }
          },
          "metadata": {},
          "execution_count": 59
        }
      ]
    },
    {
      "cell_type": "code",
      "source": [
        "# Update\n",
        "#nambahin informasi student ID\n",
        "andi[\"student_id\"] = \"PYTN-PKJ-08-008\""
      ],
      "metadata": {
        "id": "R9vwW5tIUoEq"
      },
      "execution_count": 60,
      "outputs": []
    },
    {
      "cell_type": "code",
      "source": [
        "andi"
      ],
      "metadata": {
        "colab": {
          "base_uri": "https://localhost:8080/"
        },
        "id": "0hIMeLVdU4X5",
        "outputId": "f10d1f41-1342-446a-d214-e4c46e66ec1a"
      },
      "execution_count": 61,
      "outputs": [
        {
          "output_type": "execute_result",
          "data": {
            "text/plain": [
              "{'nama': 'Andhika Widjaja',\n",
              " 'umur': 52,\n",
              " 'hobi': ['bulutangkis', 'memasak', 'coding'],\n",
              " 'student_id': 'PYTN-PKJ-08-008'}"
            ]
          },
          "metadata": {},
          "execution_count": 61
        }
      ]
    },
    {
      "cell_type": "code",
      "source": [
        "# ubah umurnya jadi 25\n",
        "andi[\"umur\"] = 25"
      ],
      "metadata": {
        "id": "xVf92pUpU5LK"
      },
      "execution_count": 62,
      "outputs": []
    },
    {
      "cell_type": "code",
      "source": [
        "andi"
      ],
      "metadata": {
        "colab": {
          "base_uri": "https://localhost:8080/"
        },
        "id": "_C4mPxRQU-dU",
        "outputId": "9f34dadc-0cee-4d30-f4a6-bde320b3286a"
      },
      "execution_count": 63,
      "outputs": [
        {
          "output_type": "execute_result",
          "data": {
            "text/plain": [
              "{'nama': 'Andhika Widjaja',\n",
              " 'umur': 25,\n",
              " 'hobi': ['bulutangkis', 'memasak', 'coding'],\n",
              " 'student_id': 'PYTN-PKJ-08-008'}"
            ]
          },
          "metadata": {},
          "execution_count": 63
        }
      ]
    },
    {
      "cell_type": "code",
      "source": [
        "# Delete\n",
        "andi = {}"
      ],
      "metadata": {
        "id": "lesdbOGhU_BM"
      },
      "execution_count": 64,
      "outputs": []
    },
    {
      "cell_type": "code",
      "source": [
        "andi"
      ],
      "metadata": {
        "colab": {
          "base_uri": "https://localhost:8080/"
        },
        "id": "LbY6MDMAVEbm",
        "outputId": "f7b7d05c-2501-46bc-f919-8284cb4bc9e7"
      },
      "execution_count": 65,
      "outputs": [
        {
          "output_type": "execute_result",
          "data": {
            "text/plain": [
              "{}"
            ]
          },
          "metadata": {},
          "execution_count": 65
        }
      ]
    },
    {
      "cell_type": "markdown",
      "source": [
        "# Conditional\n",
        "teknik pemrograman percabangan, membuat pertanyaan yang dijawab True atau False. kalau True maka kita lakukan blok kode yang ada di dalam if. kalau False, maka tidak kita lakukan, kita bisa masuk ke blok kode elif atau else atau keluar.\n",
        "\n",
        "```python\n",
        "if (pertanyaan):\n",
        "  kalau True maka kesini\n",
        "  code disini jalan semua\n",
        "else:\n",
        "  kalau False, maka kesini\n",
        "\n",
        "if (pertanyaan):\n",
        "  kalau True kesini\n",
        "elif (pertanyaan2):\n",
        "  kalau pertanyaan False, tapi pertanyaan2 True\n",
        "  baru kesini\n",
        "\n",
        "kalau tidak ada else tidak apa juga, bisa langsung keluar kalau pertanyaan False\n",
        "\n",
        "if (k1):\n",
        "  some code\n",
        "elif (k2):\n",
        "  some other code\n",
        "else:\n",
        "  even more code\n",
        "```"
      ],
      "metadata": {
        "id": "H1ry7a49VT9s"
      }
    },
    {
      "cell_type": "code",
      "source": [
        "# contoh - kita punya list isi buah buahan\n",
        "buah_buahan = [\"apel\", \"jeruk\", \"nanas\"]\n",
        "\n",
        "# kita mau cek apakah ada \"apel\" di dalam buah_buahan\n",
        "\"apel\" in buah_buahan"
      ],
      "metadata": {
        "colab": {
          "base_uri": "https://localhost:8080/"
        },
        "id": "WMnG4YXLVFG-",
        "outputId": "2ef08e8a-71c8-4c07-f629-49a416da74b3"
      },
      "execution_count": 66,
      "outputs": [
        {
          "output_type": "execute_result",
          "data": {
            "text/plain": [
              "True"
            ]
          },
          "metadata": {},
          "execution_count": 66
        }
      ]
    },
    {
      "cell_type": "code",
      "source": [
        "# kita bisa susun secara kondisional\n",
        "if (\"apel\" in buah_buahan):\n",
        "  print(\"ada apel di dalam buah buahan\")"
      ],
      "metadata": {
        "colab": {
          "base_uri": "https://localhost:8080/"
        },
        "id": "u01W-BE3WL7t",
        "outputId": "954bed99-3560-485d-db71-f1674a800e7d"
      },
      "execution_count": 67,
      "outputs": [
        {
          "output_type": "stream",
          "name": "stdout",
          "text": [
            "ada apel di dalam buah buahan\n"
          ]
        }
      ]
    },
    {
      "cell_type": "code",
      "source": [
        "\"kelapa\" in buah_buahan"
      ],
      "metadata": {
        "colab": {
          "base_uri": "https://localhost:8080/"
        },
        "id": "62i3ym0FWbEt",
        "outputId": "9b01d34b-a1f7-44da-b367-c1fa4b2af3b4"
      },
      "execution_count": 69,
      "outputs": [
        {
          "output_type": "execute_result",
          "data": {
            "text/plain": [
              "False"
            ]
          },
          "metadata": {},
          "execution_count": 69
        }
      ]
    },
    {
      "cell_type": "code",
      "source": [
        "if (\"kelapa\" in buah_buahan):\n",
        "  print(\"ada kelapa di dalam buah buahan\")"
      ],
      "metadata": {
        "id": "ROLCDu2wWUEg"
      },
      "execution_count": 68,
      "outputs": []
    },
    {
      "cell_type": "code",
      "source": [
        "if (\"kelapa\" in buah_buahan):\n",
        "  print(\"ada kelapa di dalam buah buahan\")\n",
        "else:\n",
        "  print(\"tidak ada kelapa di dalam buah_buahan\")"
      ],
      "metadata": {
        "colab": {
          "base_uri": "https://localhost:8080/"
        },
        "id": "x9G9VQ6iWXq6",
        "outputId": "8c75d1df-46b5-4f49-b0c5-a631105ad2d3"
      },
      "execution_count": 70,
      "outputs": [
        {
          "output_type": "stream",
          "name": "stdout",
          "text": [
            "tidak ada kelapa di dalam buah_buahan\n"
          ]
        }
      ]
    },
    {
      "cell_type": "code",
      "source": [
        "# pertanyaan di dalam if bebas, asal hasilnya boolean\n",
        "# contoh, kita bisa pakai matematika juga\n",
        "\n",
        "umur = 25\n",
        "\n",
        "if (umur >= 17):\n",
        "  print(\"sudah dewasa\")\n",
        "else:\n",
        "  print(\"masih anak anak\")"
      ],
      "metadata": {
        "colab": {
          "base_uri": "https://localhost:8080/"
        },
        "id": "qfsE31wQWgjF",
        "outputId": "170862df-0083-494e-e492-a6e6aeba179e"
      },
      "execution_count": 71,
      "outputs": [
        {
          "output_type": "stream",
          "name": "stdout",
          "text": [
            "sudah dewasa\n"
          ]
        }
      ]
    },
    {
      "cell_type": "markdown",
      "source": [
        "# Loop\n",
        "perulangan, loop, iteration, kita melakukan hal yang sama berulang kali\n",
        "\n",
        "kenapa?\n",
        "\n",
        "\"ambil baju warna putih di lemari\"   \n",
        "manusia bisa ke lemari, buka, cari aja baju mana yang putih\n",
        "\n",
        "komputer? lemari itu apa (tipe data), buka (function apa), putih (tipe data) apa, cara cek sebuah baju (tipe data) putih atau bukan (conditional), cara cek semua baju yang ada di dalam lemari satu per satu (loop)\n",
        "\n",
        "cek satu per satu untuk setiap baju yang ada di dalam lemari apakah warna putih"
      ],
      "metadata": {
        "id": "b7KRDmpvYSBN"
      }
    },
    {
      "cell_type": "code",
      "source": [
        "# lemari adalah list\n",
        "# baju adalah string\n",
        "# untuk cek \"putih\" kita perlu cari string \"putih\" di dalam baju\n",
        "# untuk setiap baju, setiap string, dalam lemari, kita cek ada \"putih\" atau tidak\n",
        "lemari = [\"dress merah\", \"celana panjang hitam\", \"jeans biru\", \"kaos putih\", \"syal hijau\"]"
      ],
      "metadata": {
        "id": "qpqGYyTtWyQk"
      },
      "execution_count": 72,
      "outputs": []
    },
    {
      "cell_type": "code",
      "source": [
        "\"putih\" in \"merah putih\""
      ],
      "metadata": {
        "colab": {
          "base_uri": "https://localhost:8080/"
        },
        "id": "7H8kpUBMZV3y",
        "outputId": "d5aff9b9-2fae-42f8-ed9a-e17aad0e111e"
      },
      "execution_count": 73,
      "outputs": [
        {
          "output_type": "execute_result",
          "data": {
            "text/plain": [
              "True"
            ]
          },
          "metadata": {},
          "execution_count": 73
        }
      ]
    },
    {
      "cell_type": "code",
      "source": [
        "\"merah\" in \"jus jeruk oranye\""
      ],
      "metadata": {
        "colab": {
          "base_uri": "https://localhost:8080/"
        },
        "id": "L8_hIa6iZbVT",
        "outputId": "7e2b88cf-fff4-4e60-97e3-b8f70eadb981"
      },
      "execution_count": 74,
      "outputs": [
        {
          "output_type": "execute_result",
          "data": {
            "text/plain": [
              "False"
            ]
          },
          "metadata": {},
          "execution_count": 74
        }
      ]
    },
    {
      "cell_type": "code",
      "source": [
        "for baju in lemari:\n",
        "  print(baju)"
      ],
      "metadata": {
        "colab": {
          "base_uri": "https://localhost:8080/"
        },
        "id": "yHG1POmBaR5-",
        "outputId": "6e31267b-7f17-4cac-8019-1af28994d41c"
      },
      "execution_count": 75,
      "outputs": [
        {
          "output_type": "stream",
          "name": "stdout",
          "text": [
            "dress merah\n",
            "celana panjang hitam\n",
            "jeans biru\n",
            "kaos putih\n",
            "syal hijau\n"
          ]
        }
      ]
    },
    {
      "cell_type": "code",
      "source": [
        "baju_putih = []\n",
        "\n",
        "for baju in lemari:\n",
        "  if(\"putih\" in baju):\n",
        "    baju_putih.append(baju)\n",
        "\n",
        "baju_putih"
      ],
      "metadata": {
        "colab": {
          "base_uri": "https://localhost:8080/"
        },
        "id": "CC83W4IEaXSY",
        "outputId": "aa61ac39-5d95-427c-a080-89a57c721d9f"
      },
      "execution_count": 78,
      "outputs": [
        {
          "output_type": "execute_result",
          "data": {
            "text/plain": [
              "['kaos putih']"
            ]
          },
          "metadata": {},
          "execution_count": 78
        }
      ]
    },
    {
      "cell_type": "markdown",
      "source": [
        "## For\n",
        "loop yang melewati setiap item dalam sebuah koleksi. contoh koleksi:\n",
        "- string, koleksi karakter\n",
        "- list, koleksi item\n",
        "- tuple\n",
        "- dictionay\n",
        "- range, koleksi urutan angka\n",
        "\n",
        "```python\n",
        "for karakter in \"Hacktiv8!\":\n",
        "  print(karakter) # print satu per satu huruf H, a, c,...\n",
        "```\n",
        "\n",
        "## While\n",
        "loop yang berulang terus selama kondisi masih True. mirip if. if sekali jalan. while jalan terus selamanya, selama kondisi True\n",
        "\n",
        "```python\n",
        "n = 0\n",
        "while (n < 10):\n",
        "  print(n)\n",
        "  n = n + 1\n",
        "```\n",
        "tidak lupa n bertambah terus supaya suatu saat kondisi jadi False"
      ],
      "metadata": {
        "id": "jgcnlx4mZm7D"
      }
    },
    {
      "cell_type": "code",
      "source": [],
      "metadata": {
        "id": "A3LTpWV0ZggN"
      },
      "execution_count": null,
      "outputs": []
    }
  ]
}